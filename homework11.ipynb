{
 "cells": [
  {
   "cell_type": "code",
   "execution_count": 17,
   "metadata": {
    "id": "_0m4oIEYlSjr"
   },
   "outputs": [],
   "source": [
    "import gc\n",
    "\n",
    "# Install tensorflow_text, if executed in google colab\n",
    "if 'google.colab' in str(get_ipython()):\n",
    "  !pip install -q -U tensorflow --upgrade # We need a newer tensorflow version to use the causal mask of the multi head attention layer\n",
    "  !pip install -q -U tensorflow-text\n",
    "  !pip install -q -U sentencepiece"
   ]
  },
  {
   "cell_type": "code",
   "execution_count": 18,
   "metadata": {
    "id": "g6BSKo0jlSjt",
    "outputId": "58756bd2-3f41-48b6-d0e9-67d5c608f0ac",
    "colab": {
     "base_uri": "https://localhost:8080/"
    }
   },
   "outputs": [
    {
     "name": "stdout",
     "output_type": "stream",
     "text": [
      "The tensorboard extension is already loaded. To reload it, use:\n",
      "  %reload_ext tensorboard\n",
      "Num GPUs Available:  [PhysicalDevice(name='/physical_device:GPU:0', device_type='GPU')]\n",
      "TensorFlow Version:  2.10.0\n"
     ]
    }
   ],
   "source": [
    "# disable compiler warnings\n",
    "import os\n",
    "\n",
    "# imports \n",
    "import tensorflow as tf\n",
    "import tensorflow_datasets as tfds\n",
    "import tensorflow_text as tf_text\n",
    "from tensorflow.python.ops.numpy_ops import np_config\n",
    "np_config.enable_numpy_behavior()\n",
    "import numpy as np\n",
    "import matplotlib.pyplot as plt\n",
    "from tensorflow.python.keras.layers import Dense\n",
    "from typing import List\n",
    "import datetime\n",
    "from tqdm.notebook import tqdm\n",
    "import sentencepiece as sp\n",
    "import math\n",
    "import tqdm\n",
    "\n",
    "%load_ext tensorboard\n",
    "\n",
    "from tensorflow.python.client import device_lib\n",
    "#os.environ['TF_CPP_MIN_LOG_LEVEL'] = '0'  # FATAL\n",
    "print(\"Num GPUs Available: \", tf.config.list_physical_devices('GPU'))\n",
    "print(\"TensorFlow Version: \", tf.__version__)"
   ]
  },
  {
   "cell_type": "markdown",
   "source": [
    "# Constants / Hyperparameter"
   ],
   "metadata": {
    "collapsed": false,
    "id": "620pm5bqcFaX"
   }
  },
  {
   "cell_type": "code",
   "execution_count": 19,
   "outputs": [],
   "source": [
    "PREPROCESSED_BIBLE_FILE_NAME = \"bible_preprocessed.txt\"\n",
    "VOCABULARY_SIZE = 4000 # 2000 to 7000\n",
    "SEQUENCE_LENGTH = 64 # 32 to 256\n",
    "BATCH_SIZE = 1024\n",
    "EMBEDDING_OUT = 128 # 64 to 256\n",
    "ATTENTION_HEADS = 4 # 2 to 4\n",
    "TRANSFORMER_DENSE_SIZE = 128 # 32 to 256\n",
    "EPOCHS = 100 # 100 to 600\n",
    "TRAIN_SPLIT = 1.0"
   ],
   "metadata": {
    "id": "_RI1GS_YcFaZ"
   }
  },
  {
   "cell_type": "markdown",
   "source": [
    "# Load data"
   ],
   "metadata": {
    "id": "wX8dmMUooDf3"
   }
  },
  {
   "cell_type": "code",
   "execution_count": 20,
   "metadata": {
    "id": "Vo5H3SP8lSjw"
   },
   "outputs": [],
   "source": [
    "import requests\n",
    "\n",
    "# Load file from remote, if notebook is executed inside google colab, otherwise it gets loaded from the local file system\n",
    "if 'google.colab' in str(get_ipython()):\n",
    "  bible_url = \"https://raw.githubusercontent.com/IANNwTF-Group-3/homework11/main/bible.txt\"\n",
    "  response = requests.get(bible_url)\n",
    "  text = response.text\n",
    "else:\n",
    "  file_path = \"bible.txt\"\n",
    "  with open(file_path, \"r\") as f:\n",
    "      text = f.read()"
   ]
  },
  {
   "cell_type": "markdown",
   "source": [
    "# Preprocessing"
   ],
   "metadata": {
    "id": "WNaI2FJQoPDC"
   }
  },
  {
   "cell_type": "code",
   "source": [
    "import re\n",
    "\n",
    "# Lowercase the text\n",
    "text = text.lower()\n",
    "\n",
    "# Remove sentence numeration\n",
    "text = re.sub('[0-9]+:[0-9]+ ', '', text)\n",
    "\n",
    "# Remove special characters\n",
    "for c in \"!'()*,-.0123456789:;?\":\n",
    "  text = text.replace(c, '')\n",
    "\n",
    "# Replace multiple spaces with a single space\n",
    "text = re.sub(' +', ' ', text)\n",
    "\n",
    "sentence_separator = \"sentence-separator-placeholder\"\n",
    "# Remember double line breaks\n",
    "text = re.sub('\\n\\n+', sentence_separator, text)\n",
    "# Remove line breaks\n",
    "text = text.replace('\\n', '')\n",
    "# Substitute sentence line breaks back into text\n",
    "text = text.replace(sentence_separator, '\\n')"
   ],
   "metadata": {
    "id": "5yZAxKWhoQY-"
   },
   "execution_count": 21,
   "outputs": []
  },
  {
   "cell_type": "markdown",
   "source": [
    "Write text to file for later processing"
   ],
   "metadata": {
    "id": "0xLy8nC1yWBS"
   }
  },
  {
   "cell_type": "code",
   "source": [
    "if os.path.exists(PREPROCESSED_BIBLE_FILE_NAME):\n",
    "  os.remove(PREPROCESSED_BIBLE_FILE_NAME)\n",
    "\n",
    "bible_file = open(PREPROCESSED_BIBLE_FILE_NAME, 'xb')\n",
    "bible_file.write(text.encode(encoding='UTF-8'))\n",
    "bible_file.close()"
   ],
   "metadata": {
    "id": "0yNcNqj5yVR1"
   },
   "execution_count": 22,
   "outputs": []
  },
  {
   "cell_type": "markdown",
   "source": [
    "# Tokenize"
   ],
   "metadata": {
    "id": "UGxyhxRYoTAs"
   }
  },
  {
   "cell_type": "markdown",
   "source": [
    "Create tokenizer model"
   ],
   "metadata": {
    "id": "iZc3nOsCy9hd"
   }
  },
  {
   "cell_type": "code",
   "source": [
    "# Pretrained model\n",
    "# sp_model_url = \"https://github.com/tensorflow/text/blob/master/tensorflow_text/python/ops/test_data/fast_sentencepiece.model?raw=true\"\n",
    "# sp_model = requests.get(sp_model_url).content\n",
    "\n",
    "# Self trained model\n",
    "sp_model_name = \"sp_tokenizer\"\n",
    "sp.SentencePieceTrainer.train(input=PREPROCESSED_BIBLE_FILE_NAME, model_prefix=sp_model_name, model_type=\"unigram\", vocab_size=VOCABULARY_SIZE)\n",
    "sp_model = tf.io.gfile.GFile(f\"{sp_model_name}.model\", \"rb\").read()"
   ],
   "metadata": {
    "id": "4zHpREzOy5AM"
   },
   "execution_count": 23,
   "outputs": []
  },
  {
   "cell_type": "markdown",
   "source": [
    "Create tokenizer and bible tokens"
   ],
   "metadata": {
    "id": "fntalvOf6q_w"
   }
  },
  {
   "cell_type": "code",
   "source": [
    "sp_tokenizer = tf_text.SentencepieceTokenizer(sp_model)\n",
    "sp_tokens = sp_tokenizer.tokenize(text)"
   ],
   "metadata": {
    "id": "Zs5wtRRSoSs-"
   },
   "execution_count": 24,
   "outputs": []
  },
  {
   "cell_type": "markdown",
   "source": [
    "Test tokenizer"
   ],
   "metadata": {
    "id": "UC0nRa4b6k3Y"
   }
  },
  {
   "cell_type": "code",
   "source": [
    "test_tokens = sp_tokenizer.tokenize(\"I Jesus have sent mine angel\".lower())\n",
    "for t in test_tokens:\n",
    "  print(sp_tokenizer.detokenize([t]))"
   ],
   "metadata": {
    "id": "n55Zj_Mi6mhE",
    "outputId": "f262ec96-0b85-4ed1-88d0-bd2140e4b420",
    "colab": {
     "base_uri": "https://localhost:8080/"
    }
   },
   "execution_count": 25,
   "outputs": [
    {
     "name": "stdout",
     "output_type": "stream",
     "text": [
      "tf.Tensor(b'i', shape=(), dtype=string)\n",
      "tf.Tensor(b'jesus', shape=(), dtype=string)\n",
      "tf.Tensor(b'have', shape=(), dtype=string)\n",
      "tf.Tensor(b'sent', shape=(), dtype=string)\n",
      "tf.Tensor(b'mine', shape=(), dtype=string)\n",
      "tf.Tensor(b'angel', shape=(), dtype=string)\n"
     ]
    }
   ]
  },
  {
   "cell_type": "markdown",
   "source": [
    "# Prepare dataset"
   ],
   "metadata": {
    "id": "e35hUUMh_3qk"
   }
  },
  {
   "cell_type": "markdown",
   "source": [
    "Create training data using sliding window"
   ],
   "metadata": {
    "id": "8hY31BhZ7g8u"
   }
  },
  {
   "cell_type": "code",
   "source": [
    "sliding_window = tf_text.sliding_window(data=sp_tokens, width=SEQUENCE_LENGTH + 1, axis=0)\n",
    "\n",
    "# Visualize sliding window\n",
    "print(sliding_window)"
   ],
   "metadata": {
    "id": "FimTDaki7mWf",
    "outputId": "65f5fed3-a348-4792-9604-96fdcaa02024",
    "colab": {
     "base_uri": "https://localhost:8080/"
    }
   },
   "execution_count": 26,
   "outputs": [
    {
     "name": "stdout",
     "output_type": "stream",
     "text": [
      "tf.Tensor(\n",
      "[[   3  270  511 ...   31  216    3]\n",
      " [ 270  511    5 ...  216    3  367]\n",
      " [ 511    5  157 ...    3  367    8]\n",
      " ...\n",
      " [ 511    5   48 ...   18   25   53]\n",
      " [   5   48 3011 ...   25   53   27]\n",
      " [  48 3011   31 ...   53   27 1227]], shape=(869134, 65), dtype=int32)\n"
     ]
    }
   ]
  },
  {
   "cell_type": "markdown",
   "source": [
    "Create dataset"
   ],
   "metadata": {
    "id": "egMoAnlq96BD"
   }
  },
  {
   "cell_type": "code",
   "source": [
    "full_dataset = tf.data.Dataset.from_tensor_slices((sliding_window[:,:-1], sliding_window[:,1:]))\n",
    "full_dataset = full_dataset.cache()\n",
    "full_dataset = full_dataset.shuffle(4096)\n",
    "full_dataset = full_dataset.batch(BATCH_SIZE)\n",
    "full_dataset = full_dataset.prefetch(tf.data.AUTOTUNE)\n",
    "\n",
    "train_size = math.floor(len(full_dataset) * TRAIN_SPLIT)\n",
    "train_dataset = full_dataset.take(train_size)"
   ],
   "metadata": {
    "id": "4Q3d204E95tR"
   },
   "execution_count": 27,
   "outputs": []
  },
  {
   "cell_type": "markdown",
   "source": [
    "# Embedding layer"
   ],
   "metadata": {
    "collapsed": false,
    "id": "uNqwRZK4cFao"
   }
  },
  {
   "cell_type": "code",
   "execution_count": 28,
   "outputs": [],
   "source": [
    "class BibleEmbedding(tf.keras.layers.Layer):\n",
    "  def __init__(self):\n",
    "    super(BibleEmbedding, self).__init__()\n",
    "\n",
    "    self.token_embedding = tf.keras.layers.Embedding(VOCABULARY_SIZE, EMBEDDING_OUT)\n",
    "    self.position_embedding = tf.keras.layers.Embedding(SEQUENCE_LENGTH, EMBEDDING_OUT)\n",
    "\n",
    "  def call(self, input_sequence):\n",
    "    input_range = tf.range(0, input_sequence.shape[1])\n",
    "\n",
    "    return tf.math.add(self.token_embedding(input_sequence), self.position_embedding(input_range))"
   ],
   "metadata": {
    "id": "KPSVQkHkcFao"
   }
  },
  {
   "cell_type": "markdown",
   "source": [
    "# Transformer block"
   ],
   "metadata": {
    "collapsed": false,
    "id": "myTb9RNdcFap"
   }
  },
  {
   "cell_type": "code",
   "execution_count": 29,
   "outputs": [],
   "source": [
    "class TransformerBlock(tf.keras.layers.Layer):\n",
    "  def __init__(self):\n",
    "    super(TransformerBlock, self).__init__()\n",
    "    self.head_attention_layer = tf.keras.layers.MultiHeadAttention(ATTENTION_HEADS, EMBEDDING_OUT)\n",
    "    self.dense = tf.keras.Sequential([\n",
    "      tf.keras.layers.Dense(TRANSFORMER_DENSE_SIZE, activation='relu'),\n",
    "      tf.keras.layers.Dense(EMBEDDING_OUT, activation=None)\n",
    "    ])\n",
    "    self.dropout1 = tf.keras.layers.Dropout(0.1)\n",
    "    self.dropout2 = tf.keras.layers.Dropout(0.1)\n",
    "    self.layer_normalization1 = tf.keras.layers.LayerNormalization(epsilon=1e-6)\n",
    "    self.layer_normalization2 = tf.keras.layers.LayerNormalization(epsilon=1e-6)\n",
    "\n",
    "  def call(self, data, training):\n",
    "    x = self.head_attention_layer(data, data, use_causal_mask=True)\n",
    "    x = self.dropout1(x, training=training)\n",
    "    x = tf.math.add(x, data)\n",
    "    x = self.layer_normalization1(x)\n",
    "    y = self.dense(x)\n",
    "    y = self.dropout2(y, training=training)\n",
    "    x = tf.math.add(x, y)\n",
    "    return self.layer_normalization2(x)"
   ],
   "metadata": {
    "id": "IWV6ajI5cFap"
   }
  },
  {
   "cell_type": "markdown",
   "source": [
    "# Bible model"
   ],
   "metadata": {
    "collapsed": false,
    "id": "U1p78otwcFap"
   }
  },
  {
   "cell_type": "code",
   "execution_count": 30,
   "outputs": [],
   "source": [
    "class BibleModel(tf.keras.Model):\n",
    "  def __init__(self, tokenizer, optimizer=tf.keras.optimizers.Adam(), loss_function=tf.keras.losses.SparseCategoricalCrossentropy(from_logits=True)):\n",
    "    super(BibleModel, self).__init__()\n",
    "    self.tokenizer = tokenizer\n",
    "    self.optimizer = optimizer\n",
    "    self.loss_function = loss_function\n",
    "    self.metrics_list = [\n",
    "      tf.keras.metrics.Mean(name=\"loss\"),\n",
    "      tf.keras.metrics.SparseCategoricalAccuracy(name=\"accuracy\"),\n",
    "      tf.keras.metrics.SparseTopKCategoricalAccuracy(5, name=\"top-5-acc\")\n",
    "    ]\n",
    "\n",
    "    self.layer = tf.keras.Sequential([\n",
    "      BibleEmbedding(),\n",
    "      TransformerBlock(),\n",
    "      tf.keras.layers.Dense(VOCABULARY_SIZE, activation=None)\n",
    "    ])\n",
    "\n",
    "  def call(self, data, training=True):\n",
    "    return self.layer(data)\n",
    "\n",
    "  def reset_metrics(self):\n",
    "    for metric in self.metrics:\n",
    "        metric.reset_states()\n",
    "\n",
    "  @tf.function\n",
    "  def train_step(self, data):\n",
    "    x, targets = data\n",
    "\n",
    "    # compute output and loss, train the variables\n",
    "    with tf.GradientTape() as tape:\n",
    "      predictions = self(x, training=True)\n",
    "      loss = self.loss_function(targets, predictions) + tf.reduce_sum(self.losses)\n",
    "\n",
    "    # update trainable variables\n",
    "    gradients = tape.gradient(loss, self.trainable_variables)\n",
    "    self.optimizer.apply_gradients(zip(gradients, self.trainable_variables))\n",
    "\n",
    "    # update metrics\n",
    "    self.metrics_list[0].update_state(loss)\n",
    "\n",
    "    for metric in self.metrics_list[1:]:\n",
    "        metric.update_state(targets, predictions)\n",
    "      \n",
    "    # return a dict with metric information\n",
    "    return {m.name : m.result() for m in self.metrics_list}\n",
    "\n",
    "  def generate_text(self, prompt, output_length, top_k):\n",
    "    generated = prompt\n",
    "    for i in range(output_length):\n",
    "        tokenized_prompt = self.tokenizer.tokenize(generated)\n",
    "        output = self(tf.expand_dims(tokenized_prompt, 0), training=False)\n",
    "        logits = output[:, -1, :]  # select the last token's logits\n",
    "        filtered_logits, top_indices = tf.math.top_k(logits, k=top_k, sorted=True)\n",
    "        chosen_index = tf.random.categorical(filtered_logits, num_samples=1)[-1, 0].numpy()\n",
    "        generated += ' ' + self.tokenizer.detokenize(tf.expand_dims(top_indices[0][chosen_index], 0)).numpy().decode(\"utf-8\")\n",
    "    return generated"
   ],
   "metadata": {
    "id": "fCpw7kfXcFap"
   }
  },
  {
   "cell_type": "markdown",
   "source": [
    "# Training loop"
   ],
   "metadata": {
    "id": "kOAv_LQM1VKc"
   }
  },
  {
   "cell_type": "code",
   "source": [
    "def training_loop(model, train_ds, train_summary_writer):\n",
    "  for epoch in range(EPOCHS):\n",
    "    print(f\"Epoch {epoch}:\")\n",
    "    \n",
    "    for data in tqdm.tqdm(train_ds, position=0, leave=True):\n",
    "        metrics = model.train_step(data)\n",
    "        \n",
    "    with train_summary_writer.as_default():\n",
    "        for metric in model.metrics:\n",
    "            tf.summary.scalar(f\"{metric.name}\", metric.result(), step=epoch)\n",
    "\n",
    "    # print metrics\n",
    "    print(', '.join(map(lambda metric: f\"{metric.name}: {'{:.2f}'.format(metric.result())}\", model.metrics)))\n",
    "\n",
    "    # reset all metrics (requires a reset_metrics method in the model)\n",
    "    model.reset_metrics()    \n",
    "    \n",
    "    # Validation: text generation\n",
    "    prediction = model.generate_text(\"What is\", 15, 5)\n",
    "    print(\"Prediction: \", prediction)\n",
    "    prediction = model.generate_text(\"You should never\", 15, 5)\n",
    "    print(\"Prediction: \", prediction)\n",
    "    prediction = model.generate_text(\"And god said\", 15, 5)\n",
    "    print(\"Prediction: \", prediction)\n",
    "\n",
    "    model.reset_metrics()\n",
    "    print(\"\\n\")"
   ],
   "metadata": {
    "id": "p7Fp7VkG1WqB"
   },
   "execution_count": 31,
   "outputs": []
  },
  {
   "cell_type": "code",
   "source": [
    "model = BibleModel(sp_tokenizer)\n",
    "\n",
    "current_time = datetime.datetime.now().strftime(\"%Y%m%d-%H%M%S\")\n",
    "train_log_dir = 'logs/' + current_time + '/train'\n",
    "train_summary_writer = tf.summary.create_file_writer(train_log_dir)\n",
    "\n",
    "training_loop(model, train_dataset, train_summary_writer)"
   ],
   "metadata": {
    "id": "oY8ztWzO5tvj",
    "outputId": "d3021a05-62fd-45f4-a2d4-999185bc544c",
    "colab": {
     "base_uri": "https://localhost:8080/",
     "height": 834
    }
   },
   "execution_count": 32,
   "outputs": [
    {
     "name": "stdout",
     "output_type": "stream",
     "text": [
      "Epoch 0:\n"
     ]
    },
    {
     "name": "stderr",
     "output_type": "stream",
     "text": [
      "100%|██████████| 849/849 [04:15<00:00,  3.32it/s]\n"
     ]
    },
    {
     "name": "stdout",
     "output_type": "stream",
     "text": [
      "loss: 4.82, accuracy: 0.19, top-5-acc: 0.38\n",
      "Prediction:  What is not that we should be clothed and in heaven and he shall not in the\n",
      "Prediction:  You should never be in the book of the temple of god and the third part of the\n",
      "Prediction:  And god said unto the throne and the son which are the father of the son of god\n",
      "\n",
      "\n",
      "Epoch 1:\n"
     ]
    },
    {
     "name": "stderr",
     "output_type": "stream",
     "text": [
      "100%|██████████| 849/849 [04:14<00:00,  3.34it/s]\n"
     ]
    },
    {
     "name": "stdout",
     "output_type": "stream",
     "text": [
      "loss: 4.19, accuracy: 0.23, top-5-acc: 0.45\n",
      "Prediction:  What is the angel of the angel which is the book of his voice and he that\n",
      "Prediction:  You should never enter into the midst of him into the earth shall worship the earth and shall\n",
      "Prediction:  And god said unto the throne of god is the throne of god and i beheld and great\n",
      "\n",
      "\n",
      "Epoch 2:\n"
     ]
    },
    {
     "name": "stderr",
     "output_type": "stream",
     "text": [
      "100%|██████████| 849/849 [04:10<00:00,  3.39it/s]\n"
     ]
    },
    {
     "name": "stdout",
     "output_type": "stream",
     "text": [
      "loss: 3.96, accuracy: 0.25, top-5-acc: 0.48\n",
      "Prediction:  What is in the book of the book and the angel of the book and of the\n",
      "Prediction:  You should never be ashamed and their tongue shall come and their eyes shall be like to their\n",
      "Prediction:  And god said unto me and i saw my angel and the angel sound ed and the angel\n",
      "\n",
      "\n",
      "Epoch 3:\n"
     ]
    },
    {
     "name": "stderr",
     "output_type": "stream",
     "text": [
      "100%|██████████| 849/849 [04:10<00:00,  3.39it/s]\n"
     ]
    },
    {
     "name": "stdout",
     "output_type": "stream",
     "text": [
      "loss: 3.82, accuracy: 0.26, top-5-acc: 0.50\n",
      "Prediction:  What is a crown and the throne and the seven angel sound ed and the four beasts\n",
      "Prediction:  You should never be taken away and their journey s up roar ing and their faces and their\n",
      "Prediction:  And god said unto the throne of god and the seven angel sound ed out of the temple\n",
      "\n",
      "\n",
      "Epoch 4:\n"
     ]
    },
    {
     "name": "stderr",
     "output_type": "stream",
     "text": [
      "100%|██████████| 849/849 [04:10<00:00,  3.39it/s]\n"
     ]
    },
    {
     "name": "stdout",
     "output_type": "stream",
     "text": [
      "loss: 3.73, accuracy: 0.27, top-5-acc: 0.51\n",
      "Prediction:  What is a crown of a crown and a great power of god and power was the\n",
      "Prediction:  You should never be ashamed because he hath not his brother and hath an angel poured out his\n",
      "Prediction:  And god said i saw and the angel of heaven a great cloud and the four beasts and\n",
      "\n",
      "\n",
      "Epoch 5:\n"
     ]
    },
    {
     "name": "stderr",
     "output_type": "stream",
     "text": [
      "100%|██████████| 849/849 [04:11<00:00,  3.38it/s]\n"
     ]
    },
    {
     "name": "stdout",
     "output_type": "stream",
     "text": [
      "loss: 3.65, accuracy: 0.28, top-5-acc: 0.52\n",
      "Prediction:  What is a sound of the earth a great waters of the river and the waters were\n",
      "Prediction:  You should never cast out and the sea and the earth opened the bottom less er ven t\n",
      "Prediction:  And god said unto me i saw a great multitude of the angel sound ed out of the\n",
      "\n",
      "\n",
      "Epoch 6:\n"
     ]
    },
    {
     "name": "stderr",
     "output_type": "stream",
     "text": [
      "100%|██████████| 849/849 [04:07<00:00,  3.43it/s]\n"
     ]
    },
    {
     "name": "stdout",
     "output_type": "stream",
     "text": [
      "loss: 3.59, accuracy: 0.29, top-5-acc: 0.53\n",
      "Prediction:  What is the throne which is in the midst of the lamb and the seven vial s\n",
      "Prediction:  You should never be ashamed of the word of the prophets and the word of the earth  ⁇ \n",
      "Prediction:  And god said i am rich and the poor and earth shall be brought up with him a\n",
      "\n",
      "\n",
      "Epoch 7:\n"
     ]
    },
    {
     "name": "stderr",
     "output_type": "stream",
     "text": [
      "100%|██████████| 849/849 [04:07<00:00,  3.43it/s]\n"
     ]
    },
    {
     "name": "stdout",
     "output_type": "stream",
     "text": [
      "loss: 3.55, accuracy: 0.29, top-5-acc: 0.54\n",
      "Prediction:  What is the true proverb and the prophets shall ascend from heaven and the throne shall be\n",
      "Prediction:  You should never be able to be punish ed with the sword and they shall be slain with\n",
      "Prediction:  And god said unto him if thou art a man and hast made a great image and his\n",
      "\n",
      "\n",
      "Epoch 8:\n"
     ]
    },
    {
     "name": "stderr",
     "output_type": "stream",
     "text": [
      "100%|██████████| 849/849 [04:07<00:00,  3.43it/s]\n"
     ]
    },
    {
     "name": "stdout",
     "output_type": "stream",
     "text": [
      "loss: 3.51, accuracy: 0.30, top-5-acc: 0.54\n",
      "Prediction:  What is a great river of colour in  s almon g di at g las c\n",
      "Prediction:  You should never see and they should be a great dragon and a d art and there were\n",
      "Prediction:  And god said and thou hast made me and i am in the lord and he that is\n",
      "\n",
      "\n",
      "Epoch 9:\n"
     ]
    },
    {
     "name": "stderr",
     "output_type": "stream",
     "text": [
      "100%|██████████| 849/849 [04:07<00:00,  3.43it/s]\n"
     ]
    },
    {
     "name": "stdout",
     "output_type": "stream",
     "text": [
      "loss: 3.47, accuracy: 0.30, top-5-acc: 0.55\n",
      "Prediction:  What is a true witness and a las c art and a prophet and a great multitude\n",
      "Prediction:  You should never be ashamed but he that is come unto them that are with him shall be\n",
      "Prediction:  And god said the lord is the record of god and he that sitteth on the throne of\n",
      "\n",
      "\n",
      "Epoch 10:\n"
     ]
    },
    {
     "name": "stderr",
     "output_type": "stream",
     "text": [
      "100%|██████████| 849/849 [04:07<00:00,  3.43it/s]\n"
     ]
    },
    {
     "name": "stdout",
     "output_type": "stream",
     "text": [
      "loss: 3.44, accuracy: 0.30, top-5-acc: 0.55\n",
      "Prediction:  What is the angel poured out his vial upon his feet and he that sat thereon and\n",
      "Prediction:  You should never be moved away and they were compass ed ged e as a cloud tarrie d\n",
      "Prediction:  And god said unto the angel sound ed with the angel of the church and out of the\n",
      "\n",
      "\n",
      "Epoch 11:\n"
     ]
    },
    {
     "name": "stderr",
     "output_type": "stream",
     "text": [
      "100%|██████████| 849/849 [04:07<00:00,  3.43it/s]\n"
     ]
    },
    {
     "name": "stdout",
     "output_type": "stream",
     "text": [
      "loss: 3.42, accuracy: 0.31, top-5-acc: 0.56\n",
      "Prediction:  What is a book and the third part of the third beast and the fourth beast and\n",
      "Prediction:  You should never taste the word and the second seal i heard the third angel of the trumpet\n",
      "Prediction:  And god said unto him the lord is the true witness and i saw the angel sound ed\n",
      "\n",
      "\n",
      "Epoch 12:\n"
     ]
    },
    {
     "name": "stderr",
     "output_type": "stream",
     "text": [
      "100%|██████████| 849/849 [04:07<00:00,  3.43it/s]\n"
     ]
    },
    {
     "name": "stdout",
     "output_type": "stream",
     "text": [
      "loss: 3.39, accuracy: 0.31, top-5-acc: 0.56\n",
      "Prediction:  What is a true and a great voice with er az em in my tabernacle and i\n",
      "Prediction:  You should never be unpunished for ye know that ye have heard the voice of the lord jesus\n",
      "Prediction:  And god said ye know the lord and the high priest shall not come and shall be a\n",
      "\n",
      "\n",
      "Epoch 13:\n"
     ]
    },
    {
     "name": "stderr",
     "output_type": "stream",
     "text": [
      "100%|██████████| 849/849 [04:07<00:00,  3.43it/s]\n"
     ]
    },
    {
     "name": "stdout",
     "output_type": "stream",
     "text": [
      "loss: 3.37, accuracy: 0.31, top-5-acc: 0.56\n",
      "Prediction:  What is pure and conscience and un defile th r ing with pure gold and silver vessels\n",
      "Prediction:  You should never thirst and when the wall of egypt were opened unto their seal s c ir\n",
      "Prediction:  And god said unto the lord the holy ghost that thou shouldest say unto hell and thou shouldest\n",
      "\n",
      "\n",
      "Epoch 14:\n"
     ]
    },
    {
     "name": "stderr",
     "output_type": "stream",
     "text": [
      "100%|██████████| 849/849 [04:07<00:00,  3.43it/s]\n"
     ]
    },
    {
     "name": "stdout",
     "output_type": "stream",
     "text": [
      "loss: 3.35, accuracy: 0.32, top-5-acc: 0.57\n",
      "Prediction:  What is the  sea of   the sea and the ship men of the sea\n",
      "Prediction:  You should never thirst but the water that they might be trodden under foot as the sun and\n",
      "Prediction:  And god said the earth and the earth is like unto the sea and the angel poured out\n",
      "\n",
      "\n",
      "Epoch 15:\n"
     ]
    },
    {
     "name": "stderr",
     "output_type": "stream",
     "text": [
      "100%|██████████| 849/849 [04:07<00:00,  3.43it/s]\n"
     ]
    },
    {
     "name": "stdout",
     "output_type": "stream",
     "text": [
      "loss: 3.33, accuracy: 0.32, top-5-acc: 0.57\n",
      "Prediction:  What is of the book s and they were not written in the book of the book\n",
      "Prediction:  You should never taste the second time and the second pillar was like unto the third beast which\n",
      "Prediction:  And god said the same is the record of god that created these things which were in heaven\n",
      "\n",
      "\n",
      "Epoch 16:\n"
     ]
    },
    {
     "name": "stderr",
     "output_type": "stream",
     "text": [
      "100%|██████████| 849/849 [04:07<00:00,  3.43it/s]\n"
     ]
    },
    {
     "name": "stdout",
     "output_type": "stream",
     "text": [
      "loss: 3.31, accuracy: 0.32, top-5-acc: 0.57\n",
      "Prediction:  What is the true god of the angels which write upon the name of our lord jesus\n",
      "Prediction:  You should never thirst for the water of the earth shall rise up and the third seal i\n",
      "Prediction:  And god said and i heard it was not afraid of the voice of the trumpet saying arise\n",
      "\n",
      "\n",
      "Epoch 17:\n"
     ]
    },
    {
     "name": "stderr",
     "output_type": "stream",
     "text": [
      "100%|██████████| 849/849 [04:07<00:00,  3.43it/s]\n"
     ]
    },
    {
     "name": "stdout",
     "output_type": "stream",
     "text": [
      "loss: 3.29, accuracy: 0.32, top-5-acc: 0.57\n",
      "Prediction:  What is a great sound and a trumpet in sound and the voice of the trumpet and\n",
      "Prediction:  You should never thirst but they were fish of their fish s ir um p ar p at\n",
      "Prediction:  And god said ye have not the spirit of god but ye have seen of the spirits of\n",
      "\n",
      "\n",
      "Epoch 18:\n"
     ]
    },
    {
     "name": "stderr",
     "output_type": "stream",
     "text": [
      "100%|██████████| 849/849 [04:07<00:00,  3.43it/s]\n"
     ]
    },
    {
     "name": "stdout",
     "output_type": "stream",
     "text": [
      "loss: 3.28, accuracy: 0.33, top-5-acc: 0.58\n",
      "Prediction:  What is the sea s c eph er al a river and a river a river ab\n",
      "Prediction:  You should never should repent the whole and they should be found and they said unto them that\n",
      "Prediction:  And god said the same and the bride shall never thirst be weeping for mourning yea as the\n",
      "\n",
      "\n",
      "Epoch 19:\n"
     ]
    },
    {
     "name": "stderr",
     "output_type": "stream",
     "text": [
      "100%|██████████| 849/849 [04:07<00:00,  3.43it/s]\n"
     ]
    },
    {
     "name": "stdout",
     "output_type": "stream",
     "text": [
      "loss: 3.26, accuracy: 0.33, top-5-acc: 0.58\n",
      "Prediction:  What is in heaven and earth and i saw a white r as a smoke locust my\n",
      "Prediction:  You should never be unpunished and are come up and the voice of the earth and they were\n",
      "Prediction:  And god said unto him art thou and he said unto him and he that sitteth on the\n",
      "\n",
      "\n",
      "Epoch 20:\n"
     ]
    },
    {
     "name": "stderr",
     "output_type": "stream",
     "text": [
      "100%|██████████| 849/849 [04:07<00:00,  3.43it/s]\n"
     ]
    },
    {
     "name": "stdout",
     "output_type": "stream",
     "text": [
      "loss: 3.25, accuracy: 0.33, top-5-acc: 0.58\n",
      "Prediction:  What is the book of life and he was made manifest and the devil took the book\n",
      "Prediction:  You should never thirst for the water of dragon having their tongue loosed and the earth and the\n",
      "Prediction:  And god said unto heaven a little angel of the earth and there was an angel standing on\n",
      "\n",
      "\n",
      "Epoch 21:\n"
     ]
    },
    {
     "name": "stderr",
     "output_type": "stream",
     "text": [
      "100%|██████████| 849/849 [04:07<00:00,  3.43it/s]\n"
     ]
    },
    {
     "name": "stdout",
     "output_type": "stream",
     "text": [
      "loss: 3.24, accuracy: 0.33, top-5-acc: 0.58\n",
      "Prediction:  What is in the book of life and he that hath opened the seal of the earth\n",
      "Prediction:  You should never be found written in this book and they heard that they had been in their\n",
      "Prediction:  And god said unto him thou art a prophet of a prophet that thou should not see the\n",
      "\n",
      "\n",
      "Epoch 22:\n"
     ]
    },
    {
     "name": "stderr",
     "output_type": "stream",
     "text": [
      "100%|██████████| 849/849 [04:07<00:00,  3.43it/s]\n"
     ]
    },
    {
     "name": "stdout",
     "output_type": "stream",
     "text": [
      "loss: 3.22, accuracy: 0.33, top-5-acc: 0.59\n",
      "Prediction:  What is a true witness and a little chain of thy rid e va worshipp reed war\n",
      "Prediction:  You should never should be delivered unto him from death and the life of the life and he\n",
      "Prediction:  And god said unto god and the earth  ⁇  uake and the earth and were in the earth\n",
      "\n",
      "\n",
      "Epoch 23:\n"
     ]
    },
    {
     "name": "stderr",
     "output_type": "stream",
     "text": [
      "100%|██████████| 849/849 [04:07<00:00,  3.43it/s]\n"
     ]
    },
    {
     "name": "stdout",
     "output_type": "stream",
     "text": [
      "loss: 3.21, accuracy: 0.34, top-5-acc: 0.59\n",
      "Prediction:  What is a true cloud and the cloud was before the pillar ofthe cloud and in darkness\n",
      "Prediction:  You should never be moved and when he heard this was opened the book of life and the\n",
      "Prediction:  And god said unto me thou hast not walk in the book of life which is in the\n",
      "\n",
      "\n",
      "Epoch 24:\n"
     ]
    },
    {
     "name": "stderr",
     "output_type": "stream",
     "text": [
      "100%|██████████| 849/849 [04:07<00:00,  3.43it/s]\n"
     ]
    },
    {
     "name": "stdout",
     "output_type": "stream",
     "text": [
      "loss: 3.20, accuracy: 0.34, top-5-acc: 0.59\n",
      "Prediction:  What is in heaven and the earth  ⁇  uake and the earth  ⁇  uake and were therein\n",
      "Prediction:  You should never be moved and when he had opened the book and he cried with a loud\n",
      "Prediction:  And god said the lord that he hath made the same is the throne of the lamb and\n",
      "\n",
      "\n",
      "Epoch 25:\n"
     ]
    },
    {
     "name": "stderr",
     "output_type": "stream",
     "text": [
      "100%|██████████| 849/849 [04:07<00:00,  3.43it/s]\n"
     ]
    },
    {
     "name": "stdout",
     "output_type": "stream",
     "text": [
      "loss: 3.19, accuracy: 0.34, top-5-acc: 0.59\n",
      "Prediction:  What is the sea and the wind s ir east wind dried up the waters and the\n",
      "Prediction:  You should never fall into any city and they shall worship the beast and gather themselves together and\n",
      "Prediction:  And god said unto him art thou the son of thy father and i saw a great voice\n",
      "\n",
      "\n",
      "Epoch 26:\n"
     ]
    },
    {
     "name": "stderr",
     "output_type": "stream",
     "text": [
      "100%|██████████| 849/849 [04:07<00:00,  3.43it/s]\n"
     ]
    },
    {
     "name": "stdout",
     "output_type": "stream",
     "text": [
      "loss: 3.18, accuracy: 0.34, top-5-acc: 0.59\n",
      "Prediction:  What is a great millstone and cast a calf sh o king and the first and s\n",
      "Prediction:  You should never be changed and he shall be taken away and he shall take the tenth part\n",
      "Prediction:  And god said unto him i write unto thee and the lord thy god hath borne thee and\n",
      "\n",
      "\n",
      "Epoch 27:\n"
     ]
    },
    {
     "name": "stderr",
     "output_type": "stream",
     "text": [
      "100%|██████████| 849/849 [04:07<00:00,  3.43it/s]\n"
     ]
    },
    {
     "name": "stdout",
     "output_type": "stream",
     "text": [
      "loss: 3.17, accuracy: 0.34, top-5-acc: 0.59\n",
      "Prediction:  What is a pure and sharp k at the door of the temple of thelord a trumpet\n",
      "Prediction:  You should never be changed and the same shall be made manifest unto the last that he shall\n",
      "Prediction:  And god said unto him art thou a liar who is a pit and he shall rise and\n",
      "\n",
      "\n",
      "Epoch 28:\n"
     ]
    },
    {
     "name": "stderr",
     "output_type": "stream",
     "text": [
      "100%|██████████| 849/849 [04:07<00:00,  3.43it/s]\n"
     ]
    },
    {
     "name": "stdout",
     "output_type": "stream",
     "text": [
      "loss: 3.17, accuracy: 0.34, top-5-acc: 0.59\n",
      "Prediction:  What is in the earth and the sea and the angel followed the angel leper s k\n",
      "Prediction:  You should never fall into a reproach and the firmament shall divide the spoil and the firmament shall\n",
      "Prediction:  And god said the lord is a great city and it is in his throne and his angels\n",
      "\n",
      "\n",
      "Epoch 29:\n"
     ]
    },
    {
     "name": "stderr",
     "output_type": "stream",
     "text": [
      "100%|██████████| 849/849 [04:07<00:00,  3.43it/s]\n"
     ]
    },
    {
     "name": "stdout",
     "output_type": "stream",
     "text": [
      "loss: 3.16, accuracy: 0.34, top-5-acc: 0.60\n",
      "Prediction:  What is the book of the life of life and i said unto him a las c\n",
      "Prediction:  You should never fall away and their heads and their faces were two wings round about and their\n",
      "Prediction:  And god said unto him a little book and a long er and a window s up and\n",
      "\n",
      "\n",
      "Epoch 30:\n"
     ]
    },
    {
     "name": "stderr",
     "output_type": "stream",
     "text": [
      "100%|██████████| 849/849 [04:07<00:00,  3.43it/s]\n"
     ]
    },
    {
     "name": "stdout",
     "output_type": "stream",
     "text": [
      "loss: 3.15, accuracy: 0.35, top-5-acc: 0.60\n",
      "Prediction:  What is a true cloud and the cloud was a great sea and the cloud was in\n",
      "Prediction:  You should never fall into their pit s ar s eph ir ish o lord and he was\n",
      "Prediction:  And god said unto the sea and the earth shall pass away from heaven and the earth shallbe\n",
      "\n",
      "\n",
      "Epoch 31:\n"
     ]
    },
    {
     "name": "stderr",
     "output_type": "stream",
     "text": [
      "100%|██████████| 849/849 [04:07<00:00,  3.43it/s]\n"
     ]
    },
    {
     "name": "stdout",
     "output_type": "stream",
     "text": [
      "loss: 3.14, accuracy: 0.35, top-5-acc: 0.60\n",
      "Prediction:  What is in the temple of pure gold of your image and in brass the wood which\n",
      "Prediction:  You should never be moved and they that are with their mouth they are many of them and\n",
      "Prediction:  And god said unto him i have heard the voice of the trumpet sound wrath of ten thousands\n",
      "\n",
      "\n",
      "Epoch 32:\n"
     ]
    },
    {
     "name": "stderr",
     "output_type": "stream",
     "text": [
      "100%|██████████| 849/849 [04:07<00:00,  3.43it/s]\n"
     ]
    },
    {
     "name": "stdout",
     "output_type": "stream",
     "text": [
      "loss: 3.14, accuracy: 0.35, top-5-acc: 0.60\n",
      "Prediction:  What is in him and he saith unto him i have found no man neither can be\n",
      "Prediction:  You should never kill the body of the blood of the lamb and he was a lamb of\n",
      "Prediction:  And god said unto the lord and the lord is the lamb and the lamb shall be clothed\n",
      "\n",
      "\n",
      "Epoch 33:\n"
     ]
    },
    {
     "name": "stderr",
     "output_type": "stream",
     "text": [
      "100%|██████████| 849/849 [04:07<00:00,  3.43it/s]\n"
     ]
    },
    {
     "name": "stdout",
     "output_type": "stream",
     "text": [
      "loss: 3.13, accuracy: 0.35, top-5-acc: 0.60\n",
      "Prediction:  What is a book of life unto the life of the lord jesus christ and the flesh\n",
      "Prediction:  You should never fall and they came into the sea and the wind was a shore and \n",
      "Prediction:  And god said unto you and ye know the lord and he that is in him he that\n",
      "\n",
      "\n",
      "Epoch 34:\n"
     ]
    },
    {
     "name": "stderr",
     "output_type": "stream",
     "text": [
      "100%|██████████| 849/849 [04:07<00:00,  3.43it/s]\n"
     ]
    },
    {
     "name": "stdout",
     "output_type": "stream",
     "text": [
      "loss: 3.12, accuracy: 0.35, top-5-acc: 0.60\n",
      "Prediction:  What is pure and the cloud took a cloud and the cloud of them and the cloud\n",
      "Prediction:  You should never fall into their pit by his own coming and he that is in the earth\n",
      "Prediction:  And god said to him and he that sitteth upon the throne of the lamb and upon his\n",
      "\n",
      "\n",
      "Epoch 35:\n"
     ]
    },
    {
     "name": "stderr",
     "output_type": "stream",
     "text": [
      "100%|██████████| 849/849 [04:07<00:00,  3.43it/s]\n"
     ]
    },
    {
     "name": "stdout",
     "output_type": "stream",
     "text": [
      "loss: 3.12, accuracy: 0.35, top-5-acc: 0.60\n",
      "Prediction:  What is the beginning which is in the earth and the earth is a fountain shall waters\n",
      "Prediction:  You should never fall into the midst thereof neither the lamb thereof neither did any thing that which\n",
      "Prediction:  And god said untohim i am a record saying the record of the record is true and i\n",
      "\n",
      "\n",
      "Epoch 36:\n"
     ]
    },
    {
     "name": "stderr",
     "output_type": "stream",
     "text": [
      "100%|██████████| 849/849 [04:07<00:00,  3.43it/s]\n"
     ]
    },
    {
     "name": "stdout",
     "output_type": "stream",
     "text": [
      "loss: 3.11, accuracy: 0.35, top-5-acc: 0.60\n",
      "Prediction:  What is the beginning of the earth and the earth is as the dragon was wroth with\n",
      "Prediction:  You should never be moved with indignation with indignation against them that were with indignation of them were\n",
      "Prediction:  And god said unto you and to the earth  ⁇  uake s u c lo the cloud of\n",
      "\n",
      "\n",
      "Epoch 37:\n"
     ]
    },
    {
     "name": "stderr",
     "output_type": "stream",
     "text": [
      "100%|██████████| 849/849 [04:07<00:00,  3.43it/s]\n"
     ]
    },
    {
     "name": "stdout",
     "output_type": "stream",
     "text": [
      "loss: 3.11, accuracy: 0.35, top-5-acc: 0.60\n",
      "Prediction:  What is the sea and the earth shall come unto them and they shall say unto him\n",
      "Prediction:  You should never be able and to speak to the angels of god and to him that liveth\n",
      "Prediction:  And god said unto him i know that he hath opened my book and i saw a vision\n",
      "\n",
      "\n",
      "Epoch 38:\n"
     ]
    },
    {
     "name": "stderr",
     "output_type": "stream",
     "text": [
      "100%|██████████| 849/849 [04:07<00:00,  3.43it/s]\n"
     ]
    },
    {
     "name": "stdout",
     "output_type": "stream",
     "text": [
      "loss: 3.10, accuracy: 0.35, top-5-acc: 0.60\n",
      "Prediction:  What is a pure and the blood of a book and he shall be made a male\n",
      "Prediction:  You should never be able to speak unto the angels of god and to the earth and the\n",
      "Prediction:  And god said unto me and i saw that he was the same is the throne of the\n",
      "\n",
      "\n",
      "Epoch 39:\n"
     ]
    },
    {
     "name": "stderr",
     "output_type": "stream",
     "text": [
      "100%|██████████| 849/849 [04:07<00:00,  3.43it/s]\n"
     ]
    },
    {
     "name": "stdout",
     "output_type": "stream",
     "text": [
      "loss: 3.10, accuracy: 0.35, top-5-acc: 0.61\n",
      "Prediction:  What is a great sea and it shall come to the sea and to the river of\n",
      "Prediction:  You should never be ashamed when they were come and confounded and st ud g ir o foolish\n",
      "Prediction:  And god said unto them and i am a little angel and said a loud voice behold i\n",
      "\n",
      "\n",
      "Epoch 40:\n"
     ]
    },
    {
     "name": "stderr",
     "output_type": "stream",
     "text": [
      "100%|██████████| 849/849 [04:07<00:00,  3.43it/s]\n"
     ]
    },
    {
     "name": "stdout",
     "output_type": "stream",
     "text": [
      "loss: 3.09, accuracy: 0.35, top-5-acc: 0.61\n",
      "Prediction:  What is a true commandment and an apostle draw out the truth and the commandment of the\n",
      "Prediction:  You should never oppress the kingdom of god and the earth should flee away the wrath of god\n",
      "Prediction:  And god said and thou art worthy of the book of life and the lord jesus christ and\n",
      "\n",
      "\n",
      "Epoch 41:\n"
     ]
    },
    {
     "name": "stderr",
     "output_type": "stream",
     "text": [
      "100%|██████████| 849/849 [04:07<00:00,  3.43it/s]\n"
     ]
    },
    {
     "name": "stdout",
     "output_type": "stream",
     "text": [
      "loss: 3.09, accuracy: 0.36, top-5-acc: 0.61\n",
      "Prediction:  What is a true token saying and thy tongue is faithful and the true proverb s m\n",
      "Prediction:  You should never fall into captivity and the sword and the multitude of the sword and the sword\n",
      "Prediction:  And god said unto him thou art a son and a stranger and the wages of him that\n",
      "\n",
      "\n",
      "Epoch 42:\n"
     ]
    },
    {
     "name": "stderr",
     "output_type": "stream",
     "text": [
      "100%|██████████| 849/849 [04:07<00:00,  3.43it/s]\n"
     ]
    },
    {
     "name": "stdout",
     "output_type": "stream",
     "text": [
      "loss: 3.08, accuracy: 0.36, top-5-acc: 0.61\n",
      "Prediction:  What is a pure gold and his feet and the golden gird up in and and his\n",
      "Prediction:  You should never be ashamed and confounded and the earth and confounded were of them were as a\n",
      "Prediction:  And god said unto the gentiles and to the gentiles shall be able to speak to the lord\n",
      "\n",
      "\n",
      "Epoch 43:\n"
     ]
    },
    {
     "name": "stderr",
     "output_type": "stream",
     "text": [
      "100%|██████████| 849/849 [04:07<00:00,  3.43it/s]\n"
     ]
    },
    {
     "name": "stdout",
     "output_type": "stream",
     "text": [
      "loss: 3.08, accuracy: 0.36, top-5-acc: 0.61\n",
      "Prediction:  What is the sea and the river shall dry ti e g ent le k in a\n",
      "Prediction:  You should never walk to put his word in corrupt ion my son do not the first of\n",
      "Prediction:  And god said unto me i will make a new song in the seven earnest curse which are\n",
      "\n",
      "\n",
      "Epoch 44:\n"
     ]
    },
    {
     "name": "stderr",
     "output_type": "stream",
     "text": [
      "100%|██████████| 849/849 [04:07<00:00,  3.43it/s]\n"
     ]
    },
    {
     "name": "stdout",
     "output_type": "stream",
     "text": [
      "loss: 3.07, accuracy: 0.36, top-5-acc: 0.61\n",
      "Prediction:  What is in heaven but earth and the earth is a voice over the trumpet sound es\n",
      "Prediction:  You should never fall into women of the sea and he had a great dragon and the serpent\n",
      "Prediction:  And god said to me the lord is a great dragon art not a d er the a\n",
      "\n",
      "\n",
      "Epoch 45:\n"
     ]
    },
    {
     "name": "stderr",
     "output_type": "stream",
     "text": [
      "100%|██████████| 849/849 [04:07<00:00,  3.43it/s]\n"
     ]
    },
    {
     "name": "stdout",
     "output_type": "stream",
     "text": [
      "loss: 3.07, accuracy: 0.36, top-5-acc: 0.61\n",
      "Prediction:  What is not able to speak evil of the word of the lord jesus christ and to\n",
      "Prediction:  You should never fall and they should fall into the midst of the sea and he said i\n",
      "Prediction:  And god said the lord and his son and his mother was manifest ed in his sight as\n",
      "\n",
      "\n",
      "Epoch 46:\n"
     ]
    },
    {
     "name": "stderr",
     "output_type": "stream",
     "text": [
      "100%|██████████| 849/849 [04:07<00:00,  3.43it/s]\n"
     ]
    },
    {
     "name": "stdout",
     "output_type": "stream",
     "text": [
      "loss: 3.06, accuracy: 0.36, top-5-acc: 0.61\n",
      "Prediction:  What is the throne and seven stars which was the tree and the sea was dried up\n",
      "Prediction:  You should never be ashamed and confounded and confounded and your  fathers are great that ye be\n",
      "Prediction:  And god said unto him i am a prophet and he said the lord is the same day\n",
      "\n",
      "\n",
      "Epoch 47:\n"
     ]
    },
    {
     "name": "stderr",
     "output_type": "stream",
     "text": [
      "100%|██████████| 849/849 [04:07<00:00,  3.43it/s]\n"
     ]
    },
    {
     "name": "stdout",
     "output_type": "stream",
     "text": [
      "loss: 3.06, accuracy: 0.36, top-5-acc: 0.61\n",
      "Prediction:  What is the beginning of the word of thelord is the gospel of god and the same\n",
      "Prediction:  You should never perish ed and he said unto him that liveth and the angel stood before the\n",
      "Prediction:  And god said unto him i am the lord i am a prophet and a lamb and the\n",
      "\n",
      "\n",
      "Epoch 48:\n"
     ]
    },
    {
     "name": "stderr",
     "output_type": "stream",
     "text": [
      "100%|██████████| 849/849 [04:07<00:00,  3.43it/s]\n"
     ]
    },
    {
     "name": "stdout",
     "output_type": "stream",
     "text": [
      "loss: 3.06, accuracy: 0.36, top-5-acc: 0.61\n",
      "Prediction:  What is in heaven and the throne of his glory and honour and the angels which are\n",
      "Prediction:  You should never be able to speak to the earth and to the earth and he said unto\n",
      "Prediction:  And god said unto me i write the words unto thee that which thou hast heard that he\n",
      "\n",
      "\n",
      "Epoch 49:\n"
     ]
    },
    {
     "name": "stderr",
     "output_type": "stream",
     "text": [
      "100%|██████████| 849/849 [04:07<00:00,  3.43it/s]\n"
     ]
    },
    {
     "name": "stdout",
     "output_type": "stream",
     "text": [
      "loss: 3.05, accuracy: 0.36, top-5-acc: 0.61\n",
      "Prediction:  What is in heaven and earth was taken away and the earth and there was a voice\n",
      "Prediction:  You should never die and be a servant and the son of man was an high priest and\n",
      "Prediction:  And god said unto me a liar and he said unto him art thou that deceived and wast\n",
      "\n",
      "\n",
      "Epoch 50:\n"
     ]
    },
    {
     "name": "stderr",
     "output_type": "stream",
     "text": [
      "100%|██████████| 849/849 [04:07<00:00,  3.43it/s]\n"
     ]
    },
    {
     "name": "stdout",
     "output_type": "stream",
     "text": [
      "loss: 3.05, accuracy: 0.36, top-5-acc: 0.61\n",
      "Prediction:  What is a true and the ark of the covenant which was the oracle s ofthe sea\n",
      "Prediction:  You should never walk after the manner of man which sow eth and beast and the beast that\n",
      "Prediction:  And god said to them that are with him that sitteth upon the throne of the lamb and\n",
      "\n",
      "\n",
      "Epoch 51:\n"
     ]
    },
    {
     "name": "stderr",
     "output_type": "stream",
     "text": [
      "100%|██████████| 849/849 [04:07<00:00,  3.43it/s]\n"
     ]
    },
    {
     "name": "stdout",
     "output_type": "stream",
     "text": [
      "loss: 3.05, accuracy: 0.36, top-5-acc: 0.61\n",
      "Prediction:  What is the sea and it were driven and it was a great sea and the sea\n",
      "Prediction:  You should never be ashamed and confounded because that they should be zeal ous ly thus saith the\n",
      "Prediction:  And god said the word of god who liveth and a woman was born of her woman was\n",
      "\n",
      "\n",
      "Epoch 52:\n"
     ]
    },
    {
     "name": "stderr",
     "output_type": "stream",
     "text": [
      "100%|██████████| 849/849 [04:07<00:00,  3.43it/s]\n"
     ]
    },
    {
     "name": "stdout",
     "output_type": "stream",
     "text": [
      "loss: 3.04, accuracy: 0.36, top-5-acc: 0.61\n",
      "Prediction:  What is in the book of life and the spirit of the spirit and in the flesh\n",
      "Prediction:  You should never perish but he shall be filled with the wrath of god and he that loveth\n",
      "Prediction:  And god said unto him lord that hath made a liar and his word and the prophet esaias\n",
      "\n",
      "\n",
      "Epoch 53:\n"
     ]
    },
    {
     "name": "stderr",
     "output_type": "stream",
     "text": [
      "100%|██████████| 849/849 [04:07<00:00,  3.43it/s]\n"
     ]
    },
    {
     "name": "stdout",
     "output_type": "stream",
     "text": [
      "loss: 3.04, accuracy: 0.36, top-5-acc: 0.61\n",
      "Prediction:  What is the throne and seven stars and the seven trumpets and the four beasts which were\n",
      "Prediction:  You should never be able to be ashamed when he had said untohim and to the last state\n",
      "Prediction:  And god said unto him thou hast created me and hast opened the mouth of all the earth\n",
      "\n",
      "\n",
      "Epoch 54:\n"
     ]
    },
    {
     "name": "stderr",
     "output_type": "stream",
     "text": [
      "100%|██████████| 849/849 [04:07<00:00,  3.43it/s]\n"
     ]
    },
    {
     "name": "stdout",
     "output_type": "stream",
     "text": [
      "loss: 3.04, accuracy: 0.36, top-5-acc: 0.61\n",
      "Prediction:  What is not worthy of god but he shall come to the lamb and to be called\n",
      "Prediction:  You should never be ashamed a  ⁇  uest and the angels said of thelord is a lamb and\n",
      "Prediction:  And god said the lord is in the temple and it is the temple of god and the\n",
      "\n",
      "\n",
      "Epoch 55:\n"
     ]
    },
    {
     "name": "stderr",
     "output_type": "stream",
     "text": [
      "100%|██████████| 849/849 [04:07<00:00,  3.43it/s]\n"
     ]
    },
    {
     "name": "stdout",
     "output_type": "stream",
     "text": [
      "loss: 3.04, accuracy: 0.36, top-5-acc: 0.61\n",
      "Prediction:  What is true god and the ark of god which is on the earth and the flood\n",
      "Prediction:  You should never be ashamed and confounded and they went the way of the truth and there came\n",
      "Prediction:  And god said unto the gentiles thou art faithful kingdom and the earth thou art a d am\n",
      "\n",
      "\n",
      "Epoch 56:\n"
     ]
    },
    {
     "name": "stderr",
     "output_type": "stream",
     "text": [
      "100%|██████████| 849/849 [04:07<00:00,  3.43it/s]\n"
     ]
    },
    {
     "name": "stdout",
     "output_type": "stream",
     "text": [
      "loss: 3.03, accuracy: 0.36, top-5-acc: 0.61\n",
      "Prediction:  What is in the midst of a lamb and the second angel poured out his vial upon\n",
      "Prediction:  You should never be moved with envy with strife and the keep them and there came a like\n",
      "Prediction:  And god said unto the lord and he was a great nation and that he might shew wonders\n",
      "\n",
      "\n",
      "Epoch 57:\n"
     ]
    },
    {
     "name": "stderr",
     "output_type": "stream",
     "text": [
      "100%|██████████| 849/849 [04:07<00:00,  3.43it/s]\n"
     ]
    },
    {
     "name": "stdout",
     "output_type": "stream",
     "text": [
      "loss: 3.03, accuracy: 0.36, top-5-acc: 0.62\n",
      "Prediction:  What is of the sea and the earth is in the earth and there were some of\n",
      "Prediction:  You should never be ashamed a great millstone shall violence violence violence violence violence violence violence in brimstone\n",
      "Prediction:  And god said unto him the lord hath spoken and he shall be a prophet and he that\n",
      "\n",
      "\n",
      "Epoch 58:\n"
     ]
    },
    {
     "name": "stderr",
     "output_type": "stream",
     "text": [
      "100%|██████████| 849/849 [04:07<00:00,  3.43it/s]\n"
     ]
    },
    {
     "name": "stdout",
     "output_type": "stream",
     "text": [
      "loss: 3.03, accuracy: 0.36, top-5-acc: 0.62\n",
      "Prediction:  What is a mark reprove e  ⁇  ual write and the angels and the angels of god\n",
      "Prediction:  You should never perish but the word and they heard of those things which are in the beginning\n",
      "Prediction:  And god said unto me i will make a liar and the woman and i will put a\n",
      "\n",
      "\n",
      "Epoch 59:\n"
     ]
    },
    {
     "name": "stderr",
     "output_type": "stream",
     "text": [
      "100%|██████████| 849/849 [04:07<00:00,  3.43it/s]\n"
     ]
    },
    {
     "name": "stdout",
     "output_type": "stream",
     "text": [
      "loss: 3.03, accuracy: 0.37, top-5-acc: 0.62\n",
      "Prediction:  What is the beginning of the word of the lord which i have heard the voice and\n",
      "Prediction:  You should never be ashamed and confounded and they were that were moved with indignation and the lord\n",
      "Prediction:  And god said and thou art not a d am ba be nt m uzz er eth the\n",
      "\n",
      "\n",
      "Epoch 60:\n"
     ]
    },
    {
     "name": "stderr",
     "output_type": "stream",
     "text": [
      "100%|██████████| 849/849 [04:07<00:00,  3.43it/s]\n"
     ]
    },
    {
     "name": "stdout",
     "output_type": "stream",
     "text": [
      "loss: 3.02, accuracy: 0.37, top-5-acc: 0.62\n",
      "Prediction:  What is not a liar and the woman and the woman which hath a child and the\n",
      "Prediction:  You should never be ashamed and st am against the holy temple and there shall no holy foundation\n",
      "Prediction:  And god said unto him lord the lord liveth and the woman said unto him art thou a\n",
      "\n",
      "\n",
      "Epoch 61:\n"
     ]
    },
    {
     "name": "stderr",
     "output_type": "stream",
     "text": [
      "100%|██████████| 849/849 [04:07<00:00,  3.43it/s]\n"
     ]
    },
    {
     "name": "stdout",
     "output_type": "stream",
     "text": [
      "loss: 3.02, accuracy: 0.37, top-5-acc: 0.62\n",
      "Prediction:  What is the sea and the sea and the wind s trove rs es y er and\n",
      "Prediction:  You should never be moved with envy against strife and the keep the truth in the truth and\n",
      "Prediction:  And god said to the earth be blessed and the lord of his name was and the lord\n",
      "\n",
      "\n",
      "Epoch 62:\n"
     ]
    },
    {
     "name": "stderr",
     "output_type": "stream",
     "text": [
      "100%|██████████| 849/849 [04:07<00:00,  3.43it/s]\n"
     ]
    },
    {
     "name": "stdout",
     "output_type": "stream",
     "text": [
      "loss: 3.02, accuracy: 0.37, top-5-acc: 0.62\n",
      "Prediction:  What is in him and the lord was a cloud and the sun is upon the face\n",
      "Prediction:  You should never be moved at the temple of the temple est in the court s and of\n",
      "Prediction:  And god said unto the lamb thou art a priest and thou shalt be a crown upon thy\n",
      "\n",
      "\n",
      "Epoch 63:\n"
     ]
    },
    {
     "name": "stderr",
     "output_type": "stream",
     "text": [
      "100%|██████████| 849/849 [04:07<00:00,  3.43it/s]\n"
     ]
    },
    {
     "name": "stdout",
     "output_type": "stream",
     "text": [
      "loss: 3.02, accuracy: 0.37, top-5-acc: 0.62\n",
      "Prediction:  What is the book of the flesh of the earth and the blood of the blood of\n",
      "Prediction:  You should never be able to be ashamed behold i will send thee unto the angels of a\n",
      "Prediction:  And god said unto you the truth and ye have heard a voice to the lord of his\n",
      "\n",
      "\n",
      "Epoch 64:\n"
     ]
    },
    {
     "name": "stderr",
     "output_type": "stream",
     "text": [
      "100%|██████████| 849/849 [04:07<00:00,  3.43it/s]\n"
     ]
    },
    {
     "name": "stdout",
     "output_type": "stream",
     "text": [
      "loss: 3.01, accuracy: 0.37, top-5-acc: 0.62\n",
      "Prediction:  What is in heaven above the earth and earth and the waters shall dry ground and the\n",
      "Prediction:  You should never be able to kill and they should not spare neither marry neither marry ing the\n",
      "Prediction:  And god said the lord of the lord and the angel of the church sound of the trumpet\n",
      "\n",
      "\n",
      "Epoch 65:\n"
     ]
    },
    {
     "name": "stderr",
     "output_type": "stream",
     "text": [
      "100%|██████████| 849/849 [04:07<00:00,  3.43it/s]\n"
     ]
    },
    {
     "name": "stdout",
     "output_type": "stream",
     "text": [
      "loss: 3.01, accuracy: 0.37, top-5-acc: 0.62\n",
      "Prediction:  What is with them and he shall be made an image of gold both silver and brass\n",
      "Prediction:  You should never have been right and in the temple of thelord the holy altar and in the\n",
      "Prediction:  And god said unto me i have heard the sound of the trumpet i heard and they said\n",
      "\n",
      "\n",
      "Epoch 66:\n"
     ]
    },
    {
     "name": "stderr",
     "output_type": "stream",
     "text": [
      "100%|██████████| 849/849 [04:07<00:00,  3.43it/s]\n"
     ]
    },
    {
     "name": "stdout",
     "output_type": "stream",
     "text": [
      "loss: 3.01, accuracy: 0.37, top-5-acc: 0.62\n",
      "Prediction:  What is in the temple and the altar which was in the temple of the altar of\n",
      "Prediction:  You should never be ashamed and fall into the midst thereof and the sea came down from heaven\n",
      "Prediction:  And god said unto him i have a dream of the water of the earth and he saw\n",
      "\n",
      "\n",
      "Epoch 67:\n"
     ]
    },
    {
     "name": "stderr",
     "output_type": "stream",
     "text": [
      "100%|██████████| 849/849 [04:07<00:00,  3.43it/s]\n"
     ]
    },
    {
     "name": "stdout",
     "output_type": "stream",
     "text": [
      "loss: 3.01, accuracy: 0.37, top-5-acc: 0.62\n",
      "Prediction:  What is with er eth with them that they may write on the bil l and they\n",
      "Prediction:  You should never be ashamed a  ⁇  uiet neither for any man shall be ashamed of the same\n",
      "Prediction:  And god said unto him if a man have a liar and i say i know that i\n",
      "\n",
      "\n",
      "Epoch 68:\n"
     ]
    },
    {
     "name": "stderr",
     "output_type": "stream",
     "text": [
      "100%|██████████| 849/849 [04:07<00:00,  3.43it/s]\n"
     ]
    },
    {
     "name": "stdout",
     "output_type": "stream",
     "text": [
      "loss: 3.01, accuracy: 0.37, top-5-acc: 0.62\n",
      "Prediction:  What is in the midst ofthe earth and they which were under their hands and they that\n",
      "Prediction:  You should never be changed of man which is in the same place of the earth in the\n",
      "Prediction:  And god said unto you and to the angel of the church in the city of the city\n",
      "\n",
      "\n",
      "Epoch 69:\n"
     ]
    },
    {
     "name": "stderr",
     "output_type": "stream",
     "text": [
      "100%|██████████| 849/849 [04:07<00:00,  3.43it/s]\n"
     ]
    },
    {
     "name": "stdout",
     "output_type": "stream",
     "text": [
      "loss: 3.00, accuracy: 0.37, top-5-acc: 0.62\n",
      "Prediction:  What is not in the midst of the sea and the waters of the sea and the\n",
      "Prediction:  You should never have heard it and the third part of the sadducees and the looking is left\n",
      "Prediction:  And god said unto him and to the lord and to the lord and he said i will\n",
      "\n",
      "\n",
      "Epoch 70:\n"
     ]
    },
    {
     "name": "stderr",
     "output_type": "stream",
     "text": [
      "100%|██████████| 849/849 [04:07<00:00,  3.43it/s]\n"
     ]
    },
    {
     "name": "stdout",
     "output_type": "stream",
     "text": [
      "loss: 3.00, accuracy: 0.37, top-5-acc: 0.62\n",
      "Prediction:  What is with you and i saw the angel of the church and t ra d am\n",
      "Prediction:  You should never be able to be ashamed and end u ke y and a few time of\n",
      "Prediction:  And god said unto them that dwell in the earth and in the earth and in the sea\n",
      "\n",
      "\n",
      "Epoch 71:\n"
     ]
    },
    {
     "name": "stderr",
     "output_type": "stream",
     "text": [
      "100%|██████████| 849/849 [04:07<00:00,  3.43it/s]\n"
     ]
    },
    {
     "name": "stdout",
     "output_type": "stream",
     "text": [
      "loss: 3.00, accuracy: 0.37, top-5-acc: 0.62\n",
      "Prediction:  What is not of a sword but the woman that is not the resurrection of the dead\n",
      "Prediction:  You should never be ashamed a voice and end and an angel stood before them that sound ed\n",
      "Prediction:  And god said and the word of the pattern which is on the end and the waters are\n",
      "\n",
      "\n",
      "Epoch 72:\n"
     ]
    },
    {
     "name": "stderr",
     "output_type": "stream",
     "text": [
      "100%|██████████| 849/849 [04:07<00:00,  3.43it/s]\n"
     ]
    },
    {
     "name": "stdout",
     "output_type": "stream",
     "text": [
      "loss: 3.00, accuracy: 0.37, top-5-acc: 0.62\n",
      "Prediction:  What is in the earth he that loveth not commit want eth for the lord hath a\n",
      "Prediction:  You should never be changed of fire and the same is the same scripture and the seventh the\n",
      "Prediction:  And god said unto you and i saw a great stone and the s k ir k no\n",
      "\n",
      "\n",
      "Epoch 73:\n"
     ]
    },
    {
     "name": "stderr",
     "output_type": "stream",
     "text": [
      "100%|██████████| 849/849 [04:07<00:00,  3.43it/s]\n"
     ]
    },
    {
     "name": "stdout",
     "output_type": "stream",
     "text": [
      "loss: 3.00, accuracy: 0.37, top-5-acc: 0.62\n",
      "Prediction:  What is with him and he is the eighth of the seven t ri al u um\n",
      "Prediction:  You should never be able to bridle and to cast the tables of stone and they saw a\n",
      "Prediction:  And god said unto him and he said unto him thou art the church of the gates of\n",
      "\n",
      "\n",
      "Epoch 74:\n"
     ]
    },
    {
     "name": "stderr",
     "output_type": "stream",
     "text": [
      "100%|██████████| 849/849 [04:07<00:00,  3.43it/s]\n"
     ]
    },
    {
     "name": "stdout",
     "output_type": "stream",
     "text": [
      "loss: 3.00, accuracy: 0.37, top-5-acc: 0.62\n",
      "Prediction:  What is the  throne and the lamb of the lamb and the smoke of the smoke\n",
      "Prediction:  You should never be beaten with few men of a sword and of a sword for he is\n",
      "Prediction:  And god said unto him and he that loveth not keepeth his word and he that loveth his\n",
      "\n",
      "\n",
      "Epoch 75:\n"
     ]
    },
    {
     "name": "stderr",
     "output_type": "stream",
     "text": [
      "100%|██████████| 849/849 [04:07<00:00,  3.43it/s]\n"
     ]
    },
    {
     "name": "stdout",
     "output_type": "stream",
     "text": [
      "loss: 2.99, accuracy: 0.37, top-5-acc: 0.62\n",
      "Prediction:  What is with er aph el on a g i m o d are of a d\n",
      "Prediction:  You should never be moved and they were  all of the temple of god was manifest ed\n",
      "Prediction:  And god said unto the angel which talked with me what these have these things are these are\n",
      "\n",
      "\n",
      "Epoch 76:\n"
     ]
    },
    {
     "name": "stderr",
     "output_type": "stream",
     "text": [
      "100%|██████████| 849/849 [04:07<00:00,  3.43it/s]\n"
     ]
    },
    {
     "name": "stdout",
     "output_type": "stream",
     "text": [
      "loss: 2.99, accuracy: 0.37, top-5-acc: 0.62\n",
      "Prediction:  What is in them and the sea and the sea and they were healed and the wave\n",
      "Prediction:  You should never have written we ask by the book and by the word of the world and\n",
      "Prediction:  And god said unto them ye have not the word of god and to all the earth and\n",
      "\n",
      "\n",
      "Epoch 77:\n"
     ]
    },
    {
     "name": "stderr",
     "output_type": "stream",
     "text": [
      "100%|██████████| 849/849 [04:07<00:00,  3.43it/s]\n"
     ]
    },
    {
     "name": "stdout",
     "output_type": "stream",
     "text": [
      "loss: 2.99, accuracy: 0.37, top-5-acc: 0.62\n",
      "Prediction:  What is a sharp sick le ped and the angel poured out his vial upon the r\n",
      "Prediction:  You should never be ashamed a voice of an angel of the church in t ar c lad\n",
      "Prediction:  And god said unto the lord is the lord that we may be able to bear it and\n",
      "\n",
      "\n",
      "Epoch 78:\n"
     ]
    },
    {
     "name": "stderr",
     "output_type": "stream",
     "text": [
      "100%|██████████| 849/849 [04:07<00:00,  3.43it/s]\n"
     ]
    },
    {
     "name": "stdout",
     "output_type": "stream",
     "text": [
      "loss: 2.99, accuracy: 0.37, top-5-acc: 0.62\n",
      "Prediction:  What is in the midst of a little horse and the harp and there was a bride\n",
      "Prediction:  You should never be moved because the temple est in the temple of the temple of the temple\n",
      "Prediction:  And god said unto them which are true and ye are true and in the earth and in\n",
      "\n",
      "\n",
      "Epoch 79:\n"
     ]
    },
    {
     "name": "stderr",
     "output_type": "stream",
     "text": [
      "100%|██████████| 849/849 [04:07<00:00,  3.43it/s]\n"
     ]
    },
    {
     "name": "stdout",
     "output_type": "stream",
     "text": [
      "loss: 2.99, accuracy: 0.37, top-5-acc: 0.62\n",
      "Prediction:  What is in the book of life and he is called them and they are not and\n",
      "Prediction:  You should never fall with you and a sword but the woman that is called her husband for\n",
      "Prediction:  And god said unto me i write unto you a rod and i rod e f lo the\n",
      "\n",
      "\n",
      "Epoch 80:\n"
     ]
    },
    {
     "name": "stderr",
     "output_type": "stream",
     "text": [
      "100%|██████████| 849/849 [04:07<00:00,  3.43it/s]\n"
     ]
    },
    {
     "name": "stdout",
     "output_type": "stream",
     "text": [
      "loss: 2.99, accuracy: 0.37, top-5-acc: 0.62\n",
      "Prediction:  What is with them that are therein and the earth shall be made ready to come upon\n",
      "Prediction:  You should never be able to kill and to destroy the temple of the temple of the temple\n",
      "Prediction:  And god said and i know that ye have heard that he spake the lord hath shewed his\n",
      "\n",
      "\n",
      "Epoch 81:\n"
     ]
    },
    {
     "name": "stderr",
     "output_type": "stream",
     "text": [
      "100%|██████████| 849/849 [04:07<00:00,  3.43it/s]\n"
     ]
    },
    {
     "name": "stdout",
     "output_type": "stream",
     "text": [
      "loss: 2.99, accuracy: 0.37, top-5-acc: 0.62\n",
      "Prediction:  What is the sea of the river and the sea was sea s w il er t\n",
      "Prediction:  You should never be ashamed and end u ke y and the power of the earth was given\n",
      "Prediction:  And god said unto him i have found him i heard and the angel answered and said unto\n",
      "\n",
      "\n",
      "Epoch 82:\n"
     ]
    },
    {
     "name": "stderr",
     "output_type": "stream",
     "text": [
      "100%|██████████| 849/849 [04:07<00:00,  3.43it/s]\n"
     ]
    },
    {
     "name": "stdout",
     "output_type": "stream",
     "text": [
      "loss: 2.98, accuracy: 0.37, top-5-acc: 0.62\n",
      "Prediction:  What is with him that is with you and all the men of war which were at\n",
      "Prediction:  You should never be able to be ashamed an hair and another fell upon it and st in\n",
      "Prediction:  And god said and i am a liar and the beasts and a prophet and a dream looked\n",
      "\n",
      "\n",
      "Epoch 83:\n"
     ]
    },
    {
     "name": "stderr",
     "output_type": "stream",
     "text": [
      "100%|██████████| 849/849 [04:07<00:00,  3.43it/s]\n"
     ]
    },
    {
     "name": "stdout",
     "output_type": "stream",
     "text": [
      "loss: 2.98, accuracy: 0.37, top-5-acc: 0.62\n",
      "Prediction:  What is the beginning of a dream and the interpretation of his death are the true grace\n",
      "Prediction:  You should never be changed to open and the third part of men which had been part of\n",
      "Prediction:  And god said unto him and he is the throne of god and to the lamb for the\n",
      "\n",
      "\n",
      "Epoch 84:\n"
     ]
    },
    {
     "name": "stderr",
     "output_type": "stream",
     "text": [
      "100%|██████████| 849/849 [04:07<00:00,  3.43it/s]\n"
     ]
    },
    {
     "name": "stdout",
     "output_type": "stream",
     "text": [
      "loss: 2.98, accuracy: 0.37, top-5-acc: 0.62\n",
      "Prediction:  What is in the midst of the sea and the sea ascend ed and it to the\n",
      "Prediction:  You should never be able to bridle and to turn his hand and he said i will be\n",
      "Prediction:  And god said unto you and ye have not heard the voice of god and the angel poured\n",
      "\n",
      "\n",
      "Epoch 85:\n"
     ]
    },
    {
     "name": "stderr",
     "output_type": "stream",
     "text": [
      "100%|██████████| 849/849 [04:07<00:00,  3.43it/s]\n"
     ]
    },
    {
     "name": "stdout",
     "output_type": "stream",
     "text": [
      "loss: 2.98, accuracy: 0.37, top-5-acc: 0.62\n",
      "Prediction:  What is the beginning of the word of the lord and the lord was made manifest ed\n",
      "Prediction:  You should never be changed to the earth and he had been carried out their own raiment of\n",
      "Prediction:  And god said unto me i have seen the things which were in the name of the lord\n",
      "\n",
      "\n",
      "Epoch 86:\n"
     ]
    },
    {
     "name": "stderr",
     "output_type": "stream",
     "text": [
      "100%|██████████| 849/849 [04:07<00:00,  3.43it/s]\n"
     ]
    },
    {
     "name": "stdout",
     "output_type": "stream",
     "text": [
      "loss: 2.98, accuracy: 0.37, top-5-acc: 0.62\n",
      "Prediction:  What is not the lord of god and he that liveth and the lord is sa le\n",
      "Prediction:  You should never be beaten strange god but he is witness of the spirit that sitteth upon the\n",
      "Prediction:  And god said unto the lord and he said i am the son of god and his name\n",
      "\n",
      "\n",
      "Epoch 87:\n"
     ]
    },
    {
     "name": "stderr",
     "output_type": "stream",
     "text": [
      "100%|██████████| 849/849 [04:07<00:00,  3.43it/s]\n"
     ]
    },
    {
     "name": "stdout",
     "output_type": "stream",
     "text": [
      "loss: 2.98, accuracy: 0.37, top-5-acc: 0.62\n",
      "Prediction:  What is not the lord that he hath not seen his brother s up but the son\n",
      "Prediction:  You should never fall into a pit be the image of the earth and the earth is in\n",
      "Prediction:  And god said unto me the earth the lord and i saw a thief come and the spirit\n",
      "\n",
      "\n",
      "Epoch 88:\n"
     ]
    },
    {
     "name": "stderr",
     "output_type": "stream",
     "text": [
      "100%|██████████| 849/849 [04:07<00:00,  3.43it/s]\n"
     ]
    },
    {
     "name": "stdout",
     "output_type": "stream",
     "text": [
      "loss: 2.98, accuracy: 0.37, top-5-acc: 0.62\n",
      "Prediction:  What is the  beginning of wisdom but the understanding and a l um b ians which\n",
      "Prediction:  You should never fall into the earth and it was the snare d u a tale bear of\n",
      "Prediction:  And god said unto the lord and to the lord of god and to the earth and to\n",
      "\n",
      "\n",
      "Epoch 89:\n"
     ]
    },
    {
     "name": "stderr",
     "output_type": "stream",
     "text": [
      "100%|██████████| 849/849 [04:07<00:00,  3.43it/s]\n"
     ]
    },
    {
     "name": "stdout",
     "output_type": "stream",
     "text": [
      "loss: 2.97, accuracy: 0.37, top-5-acc: 0.62\n",
      "Prediction:  What is a liar or a proverb he and is the true angels of rai sing ling\n",
      "Prediction:  You should never be ashamed and confounded and faint that are in the sea and the sea and\n",
      "Prediction:  And god said unto me thou hast made the cup with supper and with fire and thou heard\n",
      "\n",
      "\n",
      "Epoch 90:\n"
     ]
    },
    {
     "name": "stderr",
     "output_type": "stream",
     "text": [
      "100%|██████████| 849/849 [04:07<00:00,  3.43it/s]\n"
     ]
    },
    {
     "name": "stdout",
     "output_type": "stream",
     "text": [
      "loss: 2.97, accuracy: 0.37, top-5-acc: 0.62\n",
      "Prediction:  What is in the midst of the throne and the lamb is called the twelve apostles of\n",
      "Prediction:  You should never be moved with compass ed the inhabitants of the world and the world and in\n",
      "Prediction:  And god said to the people i will give thee a light and to his face and to\n",
      "\n",
      "\n",
      "Epoch 91:\n"
     ]
    },
    {
     "name": "stderr",
     "output_type": "stream",
     "text": [
      "100%|██████████| 849/849 [04:07<00:00,  3.43it/s]\n"
     ]
    },
    {
     "name": "stdout",
     "output_type": "stream",
     "text": [
      "loss: 2.97, accuracy: 0.37, top-5-acc: 0.62\n",
      "Prediction:  What is not in the temple of god and the tables of stone and of the tables\n",
      "Prediction:  You should never be ashamed and the earth shall come the lord jesus christ the son ofgod of\n",
      "Prediction:  And god said unto you and ye are in all the flesh and in the lust of the\n",
      "\n",
      "\n",
      "Epoch 92:\n"
     ]
    },
    {
     "name": "stderr",
     "output_type": "stream",
     "text": [
      "100%|██████████| 849/849 [04:07<00:00,  3.43it/s]\n"
     ]
    },
    {
     "name": "stdout",
     "output_type": "stream",
     "text": [
      "loss: 2.97, accuracy: 0.37, top-5-acc: 0.62\n",
      "Prediction:  What is the book of the spirit which were written of the book which was written of\n",
      "Prediction:  You should never be changed the same shall be made ready to die and the captain of the\n",
      "Prediction:  And god said unto me i write unto thee and i will shew thee thy nakedness and thy\n",
      "\n",
      "\n",
      "Epoch 93:\n"
     ]
    },
    {
     "name": "stderr",
     "output_type": "stream",
     "text": [
      "100%|██████████| 849/849 [04:07<00:00,  3.43it/s]\n"
     ]
    },
    {
     "name": "stdout",
     "output_type": "stream",
     "text": [
      "loss: 2.97, accuracy: 0.37, top-5-acc: 0.62\n",
      "Prediction:  What is in the book of life but the spirit of the angels and the spirit and\n",
      "Prediction:  You should never be beaten strange god because he had shewed the name of jesus christ for he\n",
      "Prediction:  And god said unto him i am a faithful and here and the true name of the lord\n",
      "\n",
      "\n",
      "Epoch 94:\n"
     ]
    },
    {
     "name": "stderr",
     "output_type": "stream",
     "text": [
      "100%|██████████| 849/849 [04:07<00:00,  3.43it/s]\n"
     ]
    },
    {
     "name": "stdout",
     "output_type": "stream",
     "text": [
      "loss: 2.97, accuracy: 0.37, top-5-acc: 0.63\n",
      "Prediction:  What is with him that sitteth on the throne and the lamb which hath made a golden\n",
      "Prediction:  You should never be beaten strange thing it is turned his brother jesus christ to his own face\n",
      "Prediction:  And god said unto you and i will not make you and i am with you and a\n",
      "\n",
      "\n",
      "Epoch 95:\n"
     ]
    },
    {
     "name": "stderr",
     "output_type": "stream",
     "text": [
      "100%|██████████| 849/849 [04:07<00:00,  3.43it/s]\n"
     ]
    },
    {
     "name": "stdout",
     "output_type": "stream",
     "text": [
      "loss: 2.97, accuracy: 0.37, top-5-acc: 0.63\n",
      "Prediction:  What is a witness and the true name of the lord god of all the spirit of\n",
      "Prediction:  You should never fall into any pit through the earth and it came to pass when he had\n",
      "Prediction:  And god said unto him and the lord hath given him the spirit that hath given him and\n",
      "\n",
      "\n",
      "Epoch 96:\n"
     ]
    },
    {
     "name": "stderr",
     "output_type": "stream",
     "text": [
      "100%|██████████| 849/849 [04:07<00:00,  3.43it/s]\n"
     ]
    },
    {
     "name": "stdout",
     "output_type": "stream",
     "text": [
      "loss: 2.97, accuracy: 0.38, top-5-acc: 0.63\n",
      "Prediction:  What is with me and i heard the voice of the lord jesus christ who was given\n",
      "Prediction:  You should never be able to take him for the name of the lord and he shall not\n",
      "Prediction:  And god said unto you i know that we may see the church of the angel of a\n",
      "\n",
      "\n",
      "Epoch 97:\n"
     ]
    },
    {
     "name": "stderr",
     "output_type": "stream",
     "text": [
      "100%|██████████| 849/849 [04:07<00:00,  3.43it/s]\n"
     ]
    },
    {
     "name": "stdout",
     "output_type": "stream",
     "text": [
      "loss: 2.97, accuracy: 0.38, top-5-acc: 0.63\n",
      "Prediction:  What is not that he hath made the earth and the earth  ⁇  uake and the earth\n",
      "Prediction:  You should never be ashamed and end u i will make the end of the lord which he\n",
      "Prediction:  And god said unto me thou hast heard me and he said unto me and to the people\n",
      "\n",
      "\n",
      "Epoch 98:\n"
     ]
    },
    {
     "name": "stderr",
     "output_type": "stream",
     "text": [
      "100%|██████████| 849/849 [04:07<00:00,  3.43it/s]\n"
     ]
    },
    {
     "name": "stdout",
     "output_type": "stream",
     "text": [
      "loss: 2.96, accuracy: 0.38, top-5-acc: 0.63\n",
      "Prediction:  What is a liar and he is a wise woman and the lord jesus answered and the\n",
      "Prediction:  You should never be beaten strange god and he said unto you that we may be able to\n",
      "Prediction:  And god said unto me thou art my god that i will come and i will come unto\n",
      "\n",
      "\n",
      "Epoch 99:\n"
     ]
    },
    {
     "name": "stderr",
     "output_type": "stream",
     "text": [
      "100%|██████████| 849/849 [04:07<00:00,  3.43it/s]\n"
     ]
    },
    {
     "name": "stdout",
     "output_type": "stream",
     "text": [
      "loss: 2.96, accuracy: 0.38, top-5-acc: 0.63\n",
      "Prediction:  What is not the spirit of wisdom and the understanding of the understanding and the knowledge of\n",
      "Prediction:  You should never be moved with compass ed the city of the earth after the similitude of a\n",
      "Prediction:  And god said unto him and to the lord god of his glory and honour and his majesty\n",
      "\n",
      "\n"
     ]
    }
   ]
  },
  {
   "cell_type": "code",
   "execution_count": 33,
   "outputs": [
    {
     "data": {
      "text/plain": "Launching TensorBoard..."
     },
     "metadata": {},
     "output_type": "display_data"
    },
    {
     "data": {
      "text/plain": "<IPython.core.display.HTML object>",
      "text/html": "\n      <iframe id=\"tensorboard-frame-dacf6f6279e3adab\" width=\"100%\" height=\"800\" frameborder=\"0\">\n      </iframe>\n      <script>\n        (function() {\n          const frame = document.getElementById(\"tensorboard-frame-dacf6f6279e3adab\");\n          const url = new URL(\"/\", window.location);\n          const port = 6006;\n          if (port) {\n            url.port = port;\n          }\n          frame.src = url;\n        })();\n      </script>\n    "
     },
     "metadata": {},
     "output_type": "display_data"
    }
   ],
   "source": [
    "%tensorboard --logdir logs/"
   ],
   "metadata": {
    "collapsed": false
   }
  },
  {
   "cell_type": "code",
   "execution_count": 33,
   "outputs": [],
   "source": [],
   "metadata": {
    "collapsed": false
   }
  }
 ],
 "metadata": {
  "kernelspec": {
   "display_name": "ki_klausur",
   "language": "python",
   "name": "python3"
  },
  "language_info": {
   "codemirror_mode": {
    "name": "ipython",
    "version": 3
   },
   "file_extension": ".py",
   "mimetype": "text/x-python",
   "name": "python",
   "nbconvert_exporter": "python",
   "pygments_lexer": "ipython3",
   "version": "3.8.12"
  },
  "orig_nbformat": 4,
  "vscode": {
   "interpreter": {
    "hash": "ccc2749a7be4b92b5b584e86e3aa803380c51e1da575f498b6f2d8cfba82568a"
   }
  },
  "colab": {
   "provenance": []
  },
  "gpuClass": "standard",
  "accelerator": "GPU"
 },
 "nbformat": 4,
 "nbformat_minor": 0
}
